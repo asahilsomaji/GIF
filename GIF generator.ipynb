{
 "cells": [
  {
   "cell_type": "code",
   "execution_count": 8,
   "id": "ade4f5b8",
   "metadata": {},
   "outputs": [],
   "source": [
    "import whisper\n",
    "import ffmpeg\n",
    "import youtube_dl\n",
    "import re\n",
    "import os\n",
    "import matplotlib.pyplot as plt\n",
    "import matplotlib.animation as animation\n",
    "from pytube import YouTube\n"
   ]
  },
  {
   "cell_type": "code",
   "execution_count": 14,
   "id": "9f7dd1ce",
   "metadata": {},
   "outputs": [
    {
     "name": "stdout",
     "output_type": "stream",
     "text": [
      "Enter the YouTube video URL: https://youtu.be/AFTIVN8rRbI?feature=shared\n",
      "Video downloaded to: /home/sahilsomaji/Sajni (Full Video) Arijit Singh Ram Sampath  Laapataa Ladies   Aamir Khan Productions.mp4\n"
     ]
    },
    {
     "name": "stderr",
     "output_type": "stream",
     "text": [
      "/home/sahilsomaji/anaconda3/lib/python3.11/site-packages/whisper/transcribe.py:126: UserWarning: FP16 is not supported on CPU; using FP32 instead\n",
      "  warnings.warn(\"FP16 is not supported on CPU; using FP32 instead\")\n"
     ]
    },
    {
     "name": "stdout",
     "output_type": "stream",
     "text": [
      "Number of segments: 2\n"
     ]
    },
    {
     "name": "stderr",
     "output_type": "stream",
     "text": [
      "ffmpeg version 4.4.2-0ubuntu0.22.04.1 Copyright (c) 2000-2021 the FFmpeg developers\n",
      "  built with gcc 11 (Ubuntu 11.2.0-19ubuntu1)\n",
      "  configuration: --prefix=/usr --extra-version=0ubuntu0.22.04.1 --toolchain=hardened --libdir=/usr/lib/x86_64-linux-gnu --incdir=/usr/include/x86_64-linux-gnu --arch=amd64 --enable-gpl --disable-stripping --enable-gnutls --enable-ladspa --enable-libaom --enable-libass --enable-libbluray --enable-libbs2b --enable-libcaca --enable-libcdio --enable-libcodec2 --enable-libdav1d --enable-libflite --enable-libfontconfig --enable-libfreetype --enable-libfribidi --enable-libgme --enable-libgsm --enable-libjack --enable-libmp3lame --enable-libmysofa --enable-libopenjpeg --enable-libopenmpt --enable-libopus --enable-libpulse --enable-librabbitmq --enable-librubberband --enable-libshine --enable-libsnappy --enable-libsoxr --enable-libspeex --enable-libsrt --enable-libssh --enable-libtheora --enable-libtwolame --enable-libvidstab --enable-libvorbis --enable-libvpx --enable-libwebp --enable-libx265 --enable-libxml2 --enable-libxvid --enable-libzimg --enable-libzmq --enable-libzvbi --enable-lv2 --enable-omx --enable-openal --enable-opencl --enable-opengl --enable-sdl2 --enable-pocketsphinx --enable-librsvg --enable-libmfx --enable-libdc1394 --enable-libdrm --enable-libiec61883 --enable-chromaprint --enable-frei0r --enable-libx264 --enable-shared\n",
      "  libavutil      56. 70.100 / 56. 70.100\n",
      "  libavcodec     58.134.100 / 58.134.100\n",
      "  libavformat    58. 76.100 / 58. 76.100\n",
      "  libavdevice    58. 13.100 / 58. 13.100\n",
      "  libavfilter     7.110.100 /  7.110.100\n",
      "  libswscale      5.  9.100 /  5.  9.100\n",
      "  libswresample   3.  9.100 /  3.  9.100\n",
      "  libpostproc    55.  9.100 / 55.  9.100\n",
      "Input #0, mov,mp4,m4a,3gp,3g2,mj2, from 'AFTIVN8rRbI.mp4':\n",
      "  Metadata:\n",
      "    major_brand     : mp42\n",
      "    minor_version   : 0\n",
      "    compatible_brands: isommp42\n",
      "    encoder         : Google\n",
      "  Duration: 00:02:49.48, start: 0.000000, bitrate: 605 kb/s\n",
      "  Stream #0:0(und): Video: h264 (Main) (avc1 / 0x31637661), yuv420p(tv, bt709), 640x338 [SAR 1:1 DAR 320:169], 507 kb/s, 24 fps, 24 tbr, 12288 tbn, 48 tbc (default)\n",
      "    Metadata:\n",
      "      handler_name    : ISO Media file produced by Google Inc.\n",
      "      vendor_id       : [0][0][0][0]\n",
      "  Stream #0:1(eng): Audio: aac (LC) (mp4a / 0x6134706D), 44100 Hz, stereo, fltp, 96 kb/s (default)\n",
      "    Metadata:\n",
      "      handler_name    : ISO Media file produced by Google Inc.\n",
      "      vendor_id       : [0][0][0][0]\n",
      "Stream mapping:\n",
      "  Stream #0:0 (h264) -> fps\n",
      "  fps -> Stream #0:0 (gif)\n",
      "Press [q] to stop, [?] for help\n",
      "[swscaler @ 0x5d32f252e080] No accelerated colorspace conversion found from yuv420p to bgr8.\n",
      "Output #0, gif, to 'output_1718688482_0.gif':\n",
      "  Metadata:\n",
      "    major_brand     : mp42\n",
      "    minor_version   : 0\n",
      "    compatible_brands: isommp42\n",
      "    encoder         : Lavf58.76.100\n",
      "  Stream #0:0: Video: gif, bgr8(pc, gbr/bt709/bt709, progressive), 640x338 [SAR 1:1 DAR 320:169], q=2-31, 200 kb/s, 10 fps, 100 tbn (default)\n",
      "    Metadata:\n",
      "      encoder         : Lavc58.134.100 gif\n",
      "frame=  657 fps=327 q=-0.0 size=   34816kB time=00:01:05.61 bitrate=4347.1kbits/s speed=32.6x    \r"
     ]
    },
    {
     "name": "stdout",
     "output_type": "stream",
     "text": [
      "Generated GIF: output_1718688482_0.gif\n",
      "Displaying GIF: output_1718688482_0.gif\n"
     ]
    },
    {
     "name": "stderr",
     "output_type": "stream",
     "text": [
      "frame=  826 fps=329 q=-0.0 size=   44288kB time=00:01:22.51 bitrate=4397.1kbits/s speed=32.8x    \r",
      "frame=  847 fps=331 q=-0.0 Lsize=   45049kB time=00:01:24.61 bitrate=4361.7kbits/s speed=  33x    \n",
      "video:45049kB audio:0kB subtitle:0kB other streams:0kB global headers:0kB muxing overhead: 0.000043%\n"
     ]
    },
    {
     "data": {
      "image/png": "[encoded data removed]",
      "text/plain": [
       "<Figure size 800x600 with 1 Axes>"
      ]
     },
     "metadata": {},
     "output_type": "display_data"
    },
    {
     "name": "stderr",
     "output_type": "stream",
     "text": [
      "ffmpeg version 4.4.2-0ubuntu0.22.04.1 Copyright (c) 2000-2021 the FFmpeg developers\n",
      "  built with gcc 11 (Ubuntu 11.2.0-19ubuntu1)\n",
      "  configuration: --prefix=/usr --extra-version=0ubuntu0.22.04.1 --toolchain=hardened --libdir=/usr/lib/x86_64-linux-gnu --incdir=/usr/include/x86_64-linux-gnu --arch=amd64 --enable-gpl --disable-stripping --enable-gnutls --enable-ladspa --enable-libaom --enable-libass --enable-libbluray --enable-libbs2b --enable-libcaca --enable-libcdio --enable-libcodec2 --enable-libdav1d --enable-libflite --enable-libfontconfig --enable-libfreetype --enable-libfribidi --enable-libgme --enable-libgsm --enable-libjack --enable-libmp3lame --enable-libmysofa --enable-libopenjpeg --enable-libopenmpt --enable-libopus --enable-libpulse --enable-librabbitmq --enable-librubberband --enable-libshine --enable-libsnappy --enable-libsoxr --enable-libspeex --enable-libsrt --enable-libssh --enable-libtheora --enable-libtwolame --enable-libvidstab --enable-libvorbis --enable-libvpx --enable-libwebp --enable-libx265 --enable-libxml2 --enable-libxvid --enable-libzimg --enable-libzmq --enable-libzvbi --enable-lv2 --enable-omx --enable-openal --enable-opencl --enable-opengl --enable-sdl2 --enable-pocketsphinx --enable-librsvg --enable-libmfx --enable-libdc1394 --enable-libdrm --enable-libiec61883 --enable-chromaprint --enable-frei0r --enable-libx264 --enable-shared\n",
      "  libavutil      56. 70.100 / 56. 70.100\n",
      "  libavcodec     58.134.100 / 58.134.100\n",
      "  libavformat    58. 76.100 / 58. 76.100\n",
      "  libavdevice    58. 13.100 / 58. 13.100\n",
      "  libavfilter     7.110.100 /  7.110.100\n",
      "  libswscale      5.  9.100 /  5.  9.100\n",
      "  libswresample   3.  9.100 /  3.  9.100\n",
      "  libpostproc    55.  9.100 / 55.  9.100\n",
      "Input #0, mov,mp4,m4a,3gp,3g2,mj2, from 'AFTIVN8rRbI.mp4':\n",
      "  Metadata:\n",
      "    major_brand     : mp42\n",
      "    minor_version   : 0\n",
      "    compatible_brands: isommp42\n",
      "    encoder         : Google\n",
      "  Duration: 00:02:49.48, start: 0.000000, bitrate: 605 kb/s\n",
      "  Stream #0:0(und): Video: h264 (Main) (avc1 / 0x31637661), yuv420p(tv, bt709), 640x338 [SAR 1:1 DAR 320:169], 507 kb/s, 24 fps, 24 tbr, 12288 tbn, 48 tbc (default)\n",
      "    Metadata:\n",
      "      handler_name    : ISO Media file produced by Google Inc.\n",
      "      vendor_id       : [0][0][0][0]\n",
      "  Stream #0:1(eng): Audio: aac (LC) (mp4a / 0x6134706D), 44100 Hz, stereo, fltp, 96 kb/s (default)\n",
      "    Metadata:\n",
      "      handler_name    : ISO Media file produced by Google Inc.\n",
      "      vendor_id       : [0][0][0][0]\n",
      "Stream mapping:\n",
      "  Stream #0:0 (h264) -> fps\n",
      "  fps -> Stream #0:0 (gif)\n",
      "Press [q] to stop, [?] for help\n",
      "[swscaler @ 0x55fd83da4080] No accelerated colorspace conversion found from yuv420p to bgr8.\n",
      "Output #0, gif, to 'output_1718688482_1.gif':\n",
      "  Metadata:\n",
      "    major_brand     : mp42\n",
      "    minor_version   : 0\n",
      "    compatible_brands: isommp42\n",
      "    encoder         : Lavf58.76.100\n",
      "  Stream #0:0: Video: gif, bgr8(pc, gbr/bt709/bt709, progressive), 640x338 [SAR 1:1 DAR 320:169], q=2-31, 200 kb/s, 10 fps, 100 tbn (default)\n",
      "    Metadata:\n",
      "      encoder         : Lavc58.134.100 gif\n",
      "frame=  847 fps=317 q=-0.0 Lsize=   38911kB time=00:01:24.61 bitrate=3767.4kbits/s speed=31.7x    \n",
      "video:38911kB audio:0kB subtitle:0kB other streams:0kB global headers:0kB muxing overhead: 0.000050%\n"
     ]
    },
    {
     "name": "stdout",
     "output_type": "stream",
     "text": [
      "Generated GIF: output_1718688482_1.gif\n",
      "Displaying GIF: output_1718688482_1.gif\n"
     ]
    },
    {
     "data": {
      "image/png": "[encoded data removed]",
      "text/plain": [
       "<Figure size 800x600 with 1 Axes>"
      ]
     },
     "metadata": {},
     "output_type": "display_data"
    },
    {
     "name": "stdout",
     "output_type": "stream",
     "text": [
      "Submitted the following GIFs:\n",
      "[<matplotlib.image.AxesImage object at 0x7a6048f3eb50>]\n",
      "[<matplotlib.image.AxesImage object at 0x7a6048943d10>]\n",
      "Daily Update: Completed the assignment successfully!\n"
     ]
    }
   ],
   "source": [
    "import whisper\n",
    "import ffmpeg\n",
    "import youtube_dl\n",
    "import re\n",
    "import os\n",
    "import matplotlib.pyplot as plt\n",
    "import matplotlib.animation as animation\n",
    "from pytube import YouTube\n",
    "import time\n",
    "\n",
    "# Step 1: Input Video\n",
    "def get_video_from_url(url):\n",
    "    yt = YouTube(url)\n",
    "    video = yt.streams.filter(only_audio=False).first()\n",
    "    video_filename = f\"{yt.video_id}.mp4\"\n",
    "    video_path = video.download()\n",
    "    print(f\"Video downloaded to: {video_path}\")\n",
    "    return video_filename\n",
    "\n",
    "# Step 2: Transcribe Video\n",
    "def transcribe_video(video_file):\n",
    "    model = whisper.load_model(\"base\")\n",
    "    result = model.transcribe(video_file)\n",
    "    return result[\"text\"]\n",
    "\n",
    "# Step 3: Segment Transcript\n",
    "def segment_transcript(transcript):\n",
    "    sentences = re.split(r'[.!?]\\s*', transcript)\n",
    "    segments = []\n",
    "    current_segment = \"\"\n",
    "    for sentence in sentences:\n",
    "        if len(current_segment) + len(sentence) > 100:  # Adjust the length as needed\n",
    "            segments.append(current_segment.strip())\n",
    "            current_segment = sentence + \" \"\n",
    "        else:\n",
    "            current_segment += sentence + \" \"\n",
    "    if current_segment:\n",
    "        segments.append(current_segment.strip())\n",
    "    print(f\"Number of segments: {len(segments)}\")  # Print the number of segments\n",
    "    return segments\n",
    "\n",
    "# Step 4: Generate GIFs\n",
    "def generate_gifs(video_file, segments):\n",
    "    probe = ffmpeg.probe(video_file)\n",
    "    video_info = next(stream for stream in probe['streams'] if stream['codec_type'] == 'video')\n",
    "    width = video_info['width']\n",
    "    height = video_info['height']\n",
    "    duration = float(video_info['duration'])\n",
    "\n",
    "    gif_artists = []\n",
    "    timestamp = int(time.time())\n",
    "\n",
    "    for i, segment in enumerate(segments):\n",
    "        start_time = duration * (i / len(segments))\n",
    "        end_time = duration * ((i + 1) / len(segments))\n",
    "        output_filename = f\"output_{timestamp}_{i}.gif\"  # Include timestamp in the filename\n",
    "        stream = ffmpeg.input(video_file, ss=start_time, t=end_time - start_time)\n",
    "        stream = ffmpeg.filter(stream, 'fps', fps=10)  # Adjust the FPS as needed\n",
    "        stream = ffmpeg.output(stream, output_filename, r=10)  # Adjust the bit rate as needed\n",
    "        ffmpeg.run(stream, overwrite_output=True)\n",
    "        print(f\"Generated GIF: {output_filename}\")  # Print the generated GIF filename\n",
    "\n",
    "        # Create an AxesImage object for the GIF\n",
    "        fig, ax = plt.subplots(figsize=(8, 6))\n",
    "        gif = plt.imread(output_filename, format='gif')\n",
    "        artist = ax.imshow(gif[0])\n",
    "        gif_artists.append([artist])  # Append a list containing the artist\n",
    "\n",
    "        # Display the generated GIF\n",
    "        print(f\"Displaying GIF: {output_filename}\")\n",
    "        ani = animation.ArtistAnimation(fig, [gif_artists[-1]], interval=50, blit=True, repeat_delay=1000)\n",
    "        plt.show()\n",
    "\n",
    "        plt.close(fig)  # Close the figure to free memory\n",
    "\n",
    "    return gif_artists\n",
    "\n",
    "\n",
    "# Step 5: Submit Assignment (Example implementation)\n",
    "def submit_assignment(gif_files):\n",
    "\n",
    "    print(\"Submitted the following GIFs:\")\n",
    "    for gif_file in gif_files:\n",
    "        print(gif_file)\n",
    "\n",
    "# Step 6: Daily Updates (Example implementation)\n",
    "def send_daily_update(message):\n",
    "\n",
    "    print(f\"Daily Update: {message}\")\n",
    "\n",
    "# Main function\n",
    "def main():\n",
    "    video_url = input(\"Enter the YouTube video URL: \")\n",
    "    video_file = get_video_from_url(video_url)\n",
    "    transcript = transcribe_video(video_file)\n",
    "    segments = segment_transcript(transcript)\n",
    "    gif_artists = generate_gifs(video_file, segments)\n",
    "    submit_assignment(gif_artists)\n",
    "    send_daily_update(\"Completed the assignment successfully!\")\n",
    "\n",
    "\n",
    "if __name__ == \"__main__\":\n",
    "    main()"
   ]
  },
  {
   "cell_type": "code",
   "execution_count": null,
   "id": "05a4dc33",
   "metadata": {},
   "outputs": [],
   "source": []
  }
 ],
 "metadata": {
  "kernelspec": {
   "display_name": "Python 3 (ipykernel)",
   "language": "python",
   "name": "python3"
  },
  "language_info": {
   "codemirror_mode": {
    "name": "ipython",
    "version": 3
   },
   "file_extension": ".py",
   "mimetype": "text/x-python",
   "name": "python",
   "nbconvert_exporter": "python",
   "pygments_lexer": "ipython3",
   "version": "3.11.5"
  }
 },
 "nbformat": 4,
 "nbformat_minor": 5
}
